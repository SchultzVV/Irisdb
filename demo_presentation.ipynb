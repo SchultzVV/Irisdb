{
 "cells": [
  {
   "cell_type": "markdown",
   "id": "97d698b2",
   "metadata": {},
   "source": [
    "# 🌸 Iris MLOps Pipeline - Demo Unity Catalog\n",
    "\n",
    "## 📋 Pipeline MLOps Simplificado com Auto-Triggers\n",
    "\n",
    "Este notebook demonstra o pipeline MLOps completo do dataset Iris usando **Unity Catalog** para governança de dados e **auto-triggers** para execução automática.\n",
    "\n",
    "### 🎯 Passos da Demo:\n",
    "1. **Setup & Conexão** - Configuração inicial do Databricks\n",
    "2. **Deploy** - Deploy do pipeline para Databricks  \n",
    "3. **Bronze Pipeline** - Ingestão com auto-triggers\n",
    "4. **Verificação Final** - Status e resultados Unity Catalog\n",
    "\n",
    "### 🚀 Resultado: Pipeline completa executando automaticamente!"
   ]
  },
  {
   "cell_type": "markdown",
   "id": "ff4bc853",
   "metadata": {},
   "source": [
    "---\n",
    "## 1️⃣ Setup & Conexão\n",
    "\n",
    "### Verificar Ambiente Databricks"
   ]
  },
  {
   "cell_type": "code",
   "execution_count": 37,
   "id": "2034fb39",
   "metadata": {},
   "outputs": [
    {
     "name": "stdout",
     "output_type": "stream",
     "text": [
      "🔧 Verificando Databricks CLI...\n",
      "Databricks CLI v0.261.0\n",
      "Databricks CLI v0.261.0\n",
      "\n",
      "🏢 Verificando conexão com workspace...\n",
      "\n",
      "🏢 Verificando conexão com workspace...\n",
      "\u001b[0m{\u001b[0m\u001b[m\n",
      "\u001b[m\u001b[m  \u001b[m\u001b[34;1m\"\u001b[0;22m\u001b[34;1mactive\u001b[0;22m\u001b[34;1m\"\u001b[0;22m\u001b[0m:\u001b[0m\u001b[32;1mtrue\u001b[0;22m\u001b[0m,\u001b[0m\u001b[m\n",
      "\u001b[m\u001b[m  \u001b[m\u001b[34;1m\"\u001b[0;22m\u001b[34;1memails\u001b[0;22m\u001b[34;1m\"\u001b[0;22m\u001b[0m:\u001b[0m\u001b[m \u001b[m\u001b[1m[\u001b[22m\u001b[m\n",
      "\u001b[m\u001b[m    \u001b[m\u001b[0m{\u001b[0m\u001b[m\n",
      "\u001b[m\u001b[m      \u001b[m\u001b[34;1m\"\u001b[0;22m\u001b[34;1mprimary\u001b[0;22m\u001b[34;1m\"\u001b[0;22m\u001b[0m:\u001b[0m\u001b[32;1mtrue\u001b[0;22m\u001b[0m,\u001b[0m\u001b[m\n",
      "\u001b[m\u001b[m      \u001b[m\u001b[34;1m\"\u001b[0;22m\u001b[34;1mtype\u001b[0;22m\u001b[34;1m\"\u001b[0;22m\u001b[0m:\u001b[0m\u001b[32m\"\u001b[0m\u001b[32mwork\u001b[0m\u001b[32m\"\u001b[0m\u001b[0m,\u001b[0m\u001b[m\n",
      "\u001b[m\u001b[m      \u001b[m\u001b[34;1m\"\u001b[0;22m\u001b[34;1mvalue\u001b[0;22m\u001b[34;1m\"\u001b[0;22m\u001b[0m:\u001b[0m\u001b[32m\"\u001b[0m\u001b[32mvitorvazschultz@gmail.com\u001b[0m\u001b[32m\"\u001b[0m\u001b[m\n",
      "\u001b[m\u001b[m    \u001b[m\u001b[0m}\u001b[0m\u001b[m\n",
      "\u001b[m\u001b[m  \u001b[m\u001b[1m]\u001b[22m\u001b[0m,\u001b[0m\u001b[m\n",
      "\u001b[m\u001b[m  \u001b[m\u001b[34;1m\"\u001b[0;22m\u001b[34;1mentitlements\u001b[0;22m\u001b[34;1m\"\u001b[0;22m\u001b[0m:\u001b[0m\u001b[m \u001b[m\u001b[1m[\u001b[22m\u001b[m\n",
      "\u001b[m\u001b[m    \u001b[m\u001b[0m{\u001b[0m\u001b[m\n",
      "\u001b[m\u001b[m      \u001b[m\u001b[34;1m\"\u001b[0;22m\u001b[34;1mvalue\u001b[0;22m\u001b[34;1m\"\u001b[0;22m\u001b[0m:\u001b[0m\u001b[32m\"\u001b[0m\u001b[32mallow-cluster-create\u001b[0m\u001b[32m\"\u001b[0m\u001b[m\n",
      "\u001b[m\u001b[m    \u001b[m\u001b[0m}\u001b[0m\u001b[0m,\u001b[0m\u001b[m\n",
      "\u001b[m\u001b[m    \u001b[m\u001b[0m{\u001b[0m\u001b[m\n",
      "\u001b[m\u001b[m      \u001b[m\u001b[34;1m\"\u001b[0;22m\u001b[34;1mvalue\u001b[0;22m\u001b[34;1m\"\u001b[0;22m\u001b[0m:\u001b[0m\u001b[32m\"\u001b[0m\u001b[32mallow-instance-pool-create\u001b[0m\u001b[32m\"\u001b[0m\u001b[m\n",
      "\u001b[m\u001b[m    \u001b[m\u001b[0m}\u001b[0m\u001b[m\n",
      "\u001b[m\u001b[m  \u001b[m\u001b[1m]\u001b[22m\u001b[0m,\u001b[0m\u001b[m\n",
      "\u001b[m\u001b[m  \u001b[m\u001b[34;1m\"\u001b[0;22m\u001b[34;1mgroups\u001b[0;22m\u001b[34;1m\"\u001b[0;22m\u001b[0m:\u001b[0m\u001b[m \u001b[m\u001b[1m[\u001b[22m\u001b[m\n",
      "\u001b[m\u001b[m    \u001b[m\u001b[0m{\u001b[0m\u001b[m\n",
      "\u001b[m\u001b[m      \u001b[m\u001b[34;1m\"\u001b[0;22m\u001b[34;1m$ref\u001b[0;22m\u001b[34;1m\"\u001b[0;22m\u001b[0m:\u001b[0m\u001b[32m\"\u001b[0m\u001b[32mGroups/79901526668869\u001b[0m\u001b[32m\"\u001b[0m\u001b[0m,\u001b[0m\u001b[m\n",
      "\u001b[m\u001b[m      \u001b[m\u001b[34;1m\"\u001b[0;22m\u001b[34;1mdisplay\u001b[0;22m\u001b[34;1m\"\u001b[0;22m\u001b[0m:\u001b[0m\u001b[32m\"\u001b[0m\u001b[32madmins\u001b[0m\u001b[32m\"\u001b[0m\u001b[0m,\u001b[0m\u001b[m\n",
      "\u001b[m\u001b[m      \u001b[m\u001b[34;1m\"\u001b[0;22m\u001b[34;1mtype\u001b[0;22m\u001b[34;1m\"\u001b[0;22m\u001b[0m:\u001b[0m\u001b[32m\"\u001b[0m\u001b[32mdirect\u001b[0m\u001b[32m\"\u001b[0m\u001b[0m,\u001b[0m\u001b[m\n",
      "\u001b[m\u001b[m      \u001b[m\u001b[34;1m\"\u001b[0;22m\u001b[34;1mvalue\u001b[0;22m\u001b[34;1m\"\u001b[0;22m\u001b[0m:\u001b[0m\u001b[32m\"\u001b[0m\u001b[32m79901526668869\u001b[0m\u001b[32m\"\u001b[0m\u001b[m\n",
      "\u001b[m\u001b[m    \u001b[m\u001b[0m}\u001b[0m\u001b[0m,\u001b[0m\u001b[m\n",
      "\u001b[m\u001b[m    \u001b[m\u001b[0m{\u001b[0m\u001b[m\n",
      "\u001b[m\u001b[m      \u001b[m\u001b[34;1m\"\u001b[0;22m\u001b[34;1m$ref\u001b[0;22m\u001b[34;1m\"\u001b[0;22m\u001b[0m:\u001b[0m\u001b[32m\"\u001b[0m\u001b[32mGroups/83709945541050\u001b[0m\u001b[32m\"\u001b[0m\u001b[0m,\u001b[0m\u001b[m\n",
      "\u001b[m\u001b[m      \u001b[m\u001b[34;1m\"\u001b[0;22m\u001b[34;1mdisplay\u001b[0;22m\u001b[34;1m\"\u001b[0;22m\u001b[0m:\u001b[0m\u001b[32m\"\u001b[0m\u001b[32maccount users\u001b[0m\u001b[32m\"\u001b[0m\u001b[0m,\u001b[0m\u001b[m\n",
      "\u001b[m\u001b[m      \u001b[m\u001b[34;1m\"\u001b[0;22m\u001b[34;1mtype\u001b[0;22m\u001b[34;1m\"\u001b[0;22m\u001b[0m:\u001b[0m\u001b[32m\"\u001b[0m\u001b[32mdirect\u001b[0m\u001b[32m\"\u001b[0m\u001b[0m,\u001b[0m\u001b[m\n",
      "\u001b[m\u001b[m      \u001b[m\u001b[34;1m\"\u001b[0;22m\u001b[34;1mvalue\u001b[0;22m\u001b[34;1m\"\u001b[0;22m\u001b[0m:\u001b[0m\u001b[32m\"\u001b[0m\u001b[32m83709945541050\u001b[0m\u001b[32m\"\u001b[0m\u001b[m\n",
      "\u001b[m\u001b[m    \u001b[m\u001b[0m}\u001b[0m\u001b[m\n",
      "\u001b[m\u001b[m  \u001b[m\u001b[1m]\u001b[22m\u001b[0m,\u001b[0m\u001b[m\n",
      "\u001b[m\u001b[m  \u001b[m\u001b[34;1m\"\u001b[0;22m\u001b[34;1mid\u001b[0;22m\u001b[34;1m\"\u001b[0;22m\u001b[0m:\u001b[0m\u001b[32m\"\u001b[0m\u001b[32m74687343143536\u001b[0m\u001b[32m\"\u001b[0m\u001b[0m,\u001b[0m\u001b[m\n",
      "\u001b[m\u001b[m  \u001b[m\u001b[34;1m\"\u001b[0;22m\u001b[34;1mschemas\u001b[0;22m\u001b[34;1m\"\u001b[0;22m\u001b[0m:\u001b[0m\u001b[m \u001b[m\u001b[1m[\u001b[22m\u001b[m\n",
      "\u001b[m\u001b[m    \u001b[m\u001b[32m\"\u001b[0m\u001b[32murn:ietf:params:scim:schemas:core:2.0:User\u001b[0m\u001b[32m\"\u001b[0m\u001b[0m,\u001b[0m\u001b[m\n",
      "\u001b[m\u001b[m    \u001b[m\u001b[32m\"\u001b[0m\u001b[32murn:ietf:params:scim:schemas:extension:workspace:2.0:User\u001b[0m\u001b[32m\"\u001b[0m\u001b[m\n",
      "\u001b[m\u001b[m  \u001b[m\u001b[1m]\u001b[22m\u001b[0m,\u001b[0m\u001b[m\n",
      "\u001b[m\u001b[m  \u001b[m\u001b[34;1m\"\u001b[0;22m\u001b[34;1muserName\u001b[0;22m\u001b[34;1m\"\u001b[0;22m\u001b[0m:\u001b[0m\u001b[32m\"\u001b[0m\u001b[32mvitorvazschultz@gmail.com\u001b[0m\u001b[32m\"\u001b[0m\u001b[m\n",
      "\u001b[m\u001b[0m}\u001b[0m\n",
      "\u001b[0m{\u001b[0m\u001b[m\n",
      "\u001b[m\u001b[m  \u001b[m\u001b[34;1m\"\u001b[0;22m\u001b[34;1mactive\u001b[0;22m\u001b[34;1m\"\u001b[0;22m\u001b[0m:\u001b[0m\u001b[32;1mtrue\u001b[0;22m\u001b[0m,\u001b[0m\u001b[m\n",
      "\u001b[m\u001b[m  \u001b[m\u001b[34;1m\"\u001b[0;22m\u001b[34;1memails\u001b[0;22m\u001b[34;1m\"\u001b[0;22m\u001b[0m:\u001b[0m\u001b[m \u001b[m\u001b[1m[\u001b[22m\u001b[m\n",
      "\u001b[m\u001b[m    \u001b[m\u001b[0m{\u001b[0m\u001b[m\n",
      "\u001b[m\u001b[m      \u001b[m\u001b[34;1m\"\u001b[0;22m\u001b[34;1mprimary\u001b[0;22m\u001b[34;1m\"\u001b[0;22m\u001b[0m:\u001b[0m\u001b[32;1mtrue\u001b[0;22m\u001b[0m,\u001b[0m\u001b[m\n",
      "\u001b[m\u001b[m      \u001b[m\u001b[34;1m\"\u001b[0;22m\u001b[34;1mtype\u001b[0;22m\u001b[34;1m\"\u001b[0;22m\u001b[0m:\u001b[0m\u001b[32m\"\u001b[0m\u001b[32mwork\u001b[0m\u001b[32m\"\u001b[0m\u001b[0m,\u001b[0m\u001b[m\n",
      "\u001b[m\u001b[m      \u001b[m\u001b[34;1m\"\u001b[0;22m\u001b[34;1mvalue\u001b[0;22m\u001b[34;1m\"\u001b[0;22m\u001b[0m:\u001b[0m\u001b[32m\"\u001b[0m\u001b[32mvitorvazschultz@gmail.com\u001b[0m\u001b[32m\"\u001b[0m\u001b[m\n",
      "\u001b[m\u001b[m    \u001b[m\u001b[0m}\u001b[0m\u001b[m\n",
      "\u001b[m\u001b[m  \u001b[m\u001b[1m]\u001b[22m\u001b[0m,\u001b[0m\u001b[m\n",
      "\u001b[m\u001b[m  \u001b[m\u001b[34;1m\"\u001b[0;22m\u001b[34;1mentitlements\u001b[0;22m\u001b[34;1m\"\u001b[0;22m\u001b[0m:\u001b[0m\u001b[m \u001b[m\u001b[1m[\u001b[22m\u001b[m\n",
      "\u001b[m\u001b[m    \u001b[m\u001b[0m{\u001b[0m\u001b[m\n",
      "\u001b[m\u001b[m      \u001b[m\u001b[34;1m\"\u001b[0;22m\u001b[34;1mvalue\u001b[0;22m\u001b[34;1m\"\u001b[0;22m\u001b[0m:\u001b[0m\u001b[32m\"\u001b[0m\u001b[32mallow-cluster-create\u001b[0m\u001b[32m\"\u001b[0m\u001b[m\n",
      "\u001b[m\u001b[m    \u001b[m\u001b[0m}\u001b[0m\u001b[0m,\u001b[0m\u001b[m\n",
      "\u001b[m\u001b[m    \u001b[m\u001b[0m{\u001b[0m\u001b[m\n",
      "\u001b[m\u001b[m      \u001b[m\u001b[34;1m\"\u001b[0;22m\u001b[34;1mvalue\u001b[0;22m\u001b[34;1m\"\u001b[0;22m\u001b[0m:\u001b[0m\u001b[32m\"\u001b[0m\u001b[32mallow-instance-pool-create\u001b[0m\u001b[32m\"\u001b[0m\u001b[m\n",
      "\u001b[m\u001b[m    \u001b[m\u001b[0m}\u001b[0m\u001b[m\n",
      "\u001b[m\u001b[m  \u001b[m\u001b[1m]\u001b[22m\u001b[0m,\u001b[0m\u001b[m\n",
      "\u001b[m\u001b[m  \u001b[m\u001b[34;1m\"\u001b[0;22m\u001b[34;1mgroups\u001b[0;22m\u001b[34;1m\"\u001b[0;22m\u001b[0m:\u001b[0m\u001b[m \u001b[m\u001b[1m[\u001b[22m\u001b[m\n",
      "\u001b[m\u001b[m    \u001b[m\u001b[0m{\u001b[0m\u001b[m\n",
      "\u001b[m\u001b[m      \u001b[m\u001b[34;1m\"\u001b[0;22m\u001b[34;1m$ref\u001b[0;22m\u001b[34;1m\"\u001b[0;22m\u001b[0m:\u001b[0m\u001b[32m\"\u001b[0m\u001b[32mGroups/79901526668869\u001b[0m\u001b[32m\"\u001b[0m\u001b[0m,\u001b[0m\u001b[m\n",
      "\u001b[m\u001b[m      \u001b[m\u001b[34;1m\"\u001b[0;22m\u001b[34;1mdisplay\u001b[0;22m\u001b[34;1m\"\u001b[0;22m\u001b[0m:\u001b[0m\u001b[32m\"\u001b[0m\u001b[32madmins\u001b[0m\u001b[32m\"\u001b[0m\u001b[0m,\u001b[0m\u001b[m\n",
      "\u001b[m\u001b[m      \u001b[m\u001b[34;1m\"\u001b[0;22m\u001b[34;1mtype\u001b[0;22m\u001b[34;1m\"\u001b[0;22m\u001b[0m:\u001b[0m\u001b[32m\"\u001b[0m\u001b[32mdirect\u001b[0m\u001b[32m\"\u001b[0m\u001b[0m,\u001b[0m\u001b[m\n",
      "\u001b[m\u001b[m      \u001b[m\u001b[34;1m\"\u001b[0;22m\u001b[34;1mvalue\u001b[0;22m\u001b[34;1m\"\u001b[0;22m\u001b[0m:\u001b[0m\u001b[32m\"\u001b[0m\u001b[32m79901526668869\u001b[0m\u001b[32m\"\u001b[0m\u001b[m\n",
      "\u001b[m\u001b[m    \u001b[m\u001b[0m}\u001b[0m\u001b[0m,\u001b[0m\u001b[m\n",
      "\u001b[m\u001b[m    \u001b[m\u001b[0m{\u001b[0m\u001b[m\n",
      "\u001b[m\u001b[m      \u001b[m\u001b[34;1m\"\u001b[0;22m\u001b[34;1m$ref\u001b[0;22m\u001b[34;1m\"\u001b[0;22m\u001b[0m:\u001b[0m\u001b[32m\"\u001b[0m\u001b[32mGroups/83709945541050\u001b[0m\u001b[32m\"\u001b[0m\u001b[0m,\u001b[0m\u001b[m\n",
      "\u001b[m\u001b[m      \u001b[m\u001b[34;1m\"\u001b[0;22m\u001b[34;1mdisplay\u001b[0;22m\u001b[34;1m\"\u001b[0;22m\u001b[0m:\u001b[0m\u001b[32m\"\u001b[0m\u001b[32maccount users\u001b[0m\u001b[32m\"\u001b[0m\u001b[0m,\u001b[0m\u001b[m\n",
      "\u001b[m\u001b[m      \u001b[m\u001b[34;1m\"\u001b[0;22m\u001b[34;1mtype\u001b[0;22m\u001b[34;1m\"\u001b[0;22m\u001b[0m:\u001b[0m\u001b[32m\"\u001b[0m\u001b[32mdirect\u001b[0m\u001b[32m\"\u001b[0m\u001b[0m,\u001b[0m\u001b[m\n",
      "\u001b[m\u001b[m      \u001b[m\u001b[34;1m\"\u001b[0;22m\u001b[34;1mvalue\u001b[0;22m\u001b[34;1m\"\u001b[0;22m\u001b[0m:\u001b[0m\u001b[32m\"\u001b[0m\u001b[32m83709945541050\u001b[0m\u001b[32m\"\u001b[0m\u001b[m\n",
      "\u001b[m\u001b[m    \u001b[m\u001b[0m}\u001b[0m\u001b[m\n",
      "\u001b[m\u001b[m  \u001b[m\u001b[1m]\u001b[22m\u001b[0m,\u001b[0m\u001b[m\n",
      "\u001b[m\u001b[m  \u001b[m\u001b[34;1m\"\u001b[0;22m\u001b[34;1mid\u001b[0;22m\u001b[34;1m\"\u001b[0;22m\u001b[0m:\u001b[0m\u001b[32m\"\u001b[0m\u001b[32m74687343143536\u001b[0m\u001b[32m\"\u001b[0m\u001b[0m,\u001b[0m\u001b[m\n",
      "\u001b[m\u001b[m  \u001b[m\u001b[34;1m\"\u001b[0;22m\u001b[34;1mschemas\u001b[0;22m\u001b[34;1m\"\u001b[0;22m\u001b[0m:\u001b[0m\u001b[m \u001b[m\u001b[1m[\u001b[22m\u001b[m\n",
      "\u001b[m\u001b[m    \u001b[m\u001b[32m\"\u001b[0m\u001b[32murn:ietf:params:scim:schemas:core:2.0:User\u001b[0m\u001b[32m\"\u001b[0m\u001b[0m,\u001b[0m\u001b[m\n",
      "\u001b[m\u001b[m    \u001b[m\u001b[32m\"\u001b[0m\u001b[32murn:ietf:params:scim:schemas:extension:workspace:2.0:User\u001b[0m\u001b[32m\"\u001b[0m\u001b[m\n",
      "\u001b[m\u001b[m  \u001b[m\u001b[1m]\u001b[22m\u001b[0m,\u001b[0m\u001b[m\n",
      "\u001b[m\u001b[m  \u001b[m\u001b[34;1m\"\u001b[0;22m\u001b[34;1muserName\u001b[0;22m\u001b[34;1m\"\u001b[0;22m\u001b[0m:\u001b[0m\u001b[32m\"\u001b[0m\u001b[32mvitorvazschultz@gmail.com\u001b[0m\u001b[32m\"\u001b[0m\u001b[m\n",
      "\u001b[m\u001b[0m}\u001b[0m\n",
      "\n",
      "📁 Navegando para projeto...\n",
      "✅ Diretório: /home/v/Desktop/Irisdb\n",
      "\n",
      "📁 Navegando para projeto...\n",
      "✅ Diretório: /home/v/Desktop/Irisdb\n"
     ]
    }
   ],
   "source": [
    "# ✅ Verificar ambiente e conexão Databricks\n",
    "print(\"🔧 Verificando Databricks CLI...\")\n",
    "!databricks --version\n",
    "\n",
    "print(\"\\n🏢 Verificando conexão com workspace...\")\n",
    "!databricks current-user me\n",
    "\n",
    "print(\"\\n📁 Navegando para projeto...\")\n",
    "import os\n",
    "os.chdir('/home/v/Desktop/Irisdb')\n",
    "print(f\"✅ Diretório: {os.getcwd()}\")"
   ]
  },
  {
   "cell_type": "markdown",
   "id": "a29a6780",
   "metadata": {},
   "source": [
    "---\n",
    "## 2️⃣ Deploy & Validação\n",
    "\n",
    "### Validar e Fazer Deploy do Pipeline"
   ]
  },
  {
   "cell_type": "code",
   "execution_count": 38,
   "id": "d50bfad5",
   "metadata": {},
   "outputs": [
    {
     "name": "stdout",
     "output_type": "stream",
     "text": [
      "🔧 Validando configuração do pipeline...\n",
      "Name: \u001b[1miris_bundle\u001b[22m\n",
      "Target: \u001b[1mdev\u001b[22m\n",
      "Workspace:\n",
      "  User: \u001b[1mvitorvazschultz@gmail.com\u001b[22m\n",
      "  Path: \u001b[1m/Workspace/Users/vitorvazschultz@gmail.com/.bundle/iris_bundle/dev\u001b[22m\n",
      "\n",
      "\u001b[32mValidation OK!\n",
      "\u001b[0mName: \u001b[1miris_bundle\u001b[22m\n",
      "Target: \u001b[1mdev\u001b[22m\n",
      "Workspace:\n",
      "  User: \u001b[1mvitorvazschultz@gmail.com\u001b[22m\n",
      "  Path: \u001b[1m/Workspace/Users/vitorvazschultz@gmail.com/.bundle/iris_bundle/dev\u001b[22m\n",
      "\n",
      "\u001b[32mValidation OK!\n",
      "\u001b[0m\n",
      "🚀 Fazendo deploy para Databricks...\n",
      "\n",
      "🚀 Fazendo deploy para Databricks...\n",
      "Uploading bundle files to /Workspace/Users/vitorvazschultz@gmail.com/.bundle/iris_bundle/dev/files...\n",
      "Uploading bundle files to /Workspace/Users/vitorvazschultz@gmail.com/.bundle/iris_bundle/dev/files...\n",
      "Deploying resources...\n",
      "Deploying resources...\n",
      "Updating deployment state...\n",
      "Updating deployment state...\n",
      "Deployment complete!\n",
      "Deployment complete!\n",
      "\n",
      "✅ Deploy concluído! Verificando jobs criados...\n",
      "\n",
      "✅ Deploy concluído! Verificando jobs criados...\n",
      "\u001b[32m776018845294927\u001b[0m   [dev vitorvazschultz] iris_model_monitoring\n",
      "\u001b[32m403430714055705\u001b[0m   [dev vitorvazschultz] iris_bronze_ingestion\n",
      "\u001b[32m1024255187002882\u001b[0m  [dev vitorvazschultz] iris_silver_transform\n",
      "\u001b[32m1042199042688286\u001b[0m  [dev vitorvazschultz] iris_gold_aggregate\n",
      "\u001b[32m102736545074037\u001b[0m   [dev vitorvazschultz] iris_complete_pipeline\n",
      "\u001b[32m445532654460600\u001b[0m   [dev vitorvazschultz] iris_model_training\n",
      "\u001b[32m776018845294927\u001b[0m   [dev vitorvazschultz] iris_model_monitoring\n",
      "\u001b[32m403430714055705\u001b[0m   [dev vitorvazschultz] iris_bronze_ingestion\n",
      "\u001b[32m1024255187002882\u001b[0m  [dev vitorvazschultz] iris_silver_transform\n",
      "\u001b[32m1042199042688286\u001b[0m  [dev vitorvazschultz] iris_gold_aggregate\n",
      "\u001b[32m102736545074037\u001b[0m   [dev vitorvazschultz] iris_complete_pipeline\n",
      "\u001b[32m445532654460600\u001b[0m   [dev vitorvazschultz] iris_model_training\n"
     ]
    }
   ],
   "source": [
    "# 🔍 Validar configuração\n",
    "print(\"🔧 Validando configuração do pipeline...\")\n",
    "!make validate\n",
    "\n",
    "print(\"\\n🚀 Fazendo deploy para Databricks...\")\n",
    "!make deploy\n",
    "\n",
    "print(\"\\n✅ Deploy concluído! Verificando jobs criados...\")\n",
    "!databricks jobs list"
   ]
  },
  {
   "cell_type": "markdown",
   "id": "30d54f19",
   "metadata": {},
   "source": [
    "### 🔧 Se houver erro Unity Catalog, execute esta célula:"
   ]
  },
  {
   "cell_type": "code",
   "execution_count": 24,
   "id": "e09f8463",
   "metadata": {},
   "outputs": [
    {
     "name": "stdout",
     "output_type": "stream",
     "text": [
      "\u001b[34mName\u001b[0m     \u001b[34mType\u001b[0m            \u001b[34mComment\u001b[0m\n",
      "\u001b[32msamples\u001b[0m  \u001b[34mSYSTEM_CATALOG\u001b[0m  These sample datasets are made available by third party data providers as well as open data sources. You can learn more about each data set by clicking on each one.\n",
      "\n",
      "To discover more instantly available, free data sets across a wide range of industry use cases, visit [Databricks Marketplace](/marketplace).\n",
      "\n",
      "Please note that the third party data sets represent a reduced portion of the available data attributes, volume, and data types available from providers, and are intended for educational rather than production purposes.\n",
      "\u001b[32msystem\u001b[0m     \u001b[34mSYSTEM_CATALOG\u001b[0m   System catalog (auto-created)\n",
      "\u001b[32mworkspace\u001b[0m  \u001b[34mMANAGED_CATALOG\u001b[0m  \n"
     ]
    }
   ],
   "source": [
    "# 🔧 Correção automática Unity Catalog (se necessário)\n",
    "print(\"🔍 Verificando catálogos disponíveis...\")\n",
    "!databricks catalogs list\n",
    "\n",
    "print(\"\\n🔧 Corrigindo configuração para catálogo 'workspace'...\")\n",
    "import re, glob\n",
    "\n",
    "# Corrigir databricks.yml\n",
    "with open('databricks.yml', 'r') as f:\n",
    "    content = f.read()\n",
    "new_content = content.replace('catalog_name: hive_metastore', 'catalog_name: workspace')\n",
    "with open('databricks.yml', 'w') as f:\n",
    "    f.write(new_content)\n",
    "\n",
    "# Corrigir jobs\n",
    "for job_file in glob.glob('resources/jobs/*.yml'):\n",
    "    with open(job_file, 'r') as f:\n",
    "        content = f.read()\n",
    "    new_content = content.replace('hive_metastore.default', 'workspace.default')\n",
    "    with open(job_file, 'w') as f:\n",
    "        f.write(new_content)\n",
    "\n",
    "print(\"✅ Configuração corrigida! Re-executar deploy e pipeline.\")"
   ]
  },
  {
   "cell_type": "markdown",
   "id": "2d7caaaf",
   "metadata": {},
   "source": [
    "---\n",
    "## 3️⃣ Pipeline Principal com Auto-Triggers\n",
    "\n",
    "### 🚀 Executar Pipeline Completa (Bronze → Silver → Gold → Training → Monitoring)"
   ]
  },
  {
   "cell_type": "code",
   "execution_count": null,
   "id": "d61d9359",
   "metadata": {},
   "outputs": [
    {
     "name": "stdout",
     "output_type": "stream",
     "text": [
      "total 32\n",
      "drwxrwxr-x 2 v v 4096 ago 11 16:51 .\n",
      "drwxrwxr-x 3 v v 4096 jul 25 12:03 ..\n",
      "-rw-rw-r-- 1 v v  641 ago 11 17:11 bronze_job.yml\n",
      "-rw-rw-r-- 1 v v 2633 ago 11 17:11 complete_pipeline.yml\n",
      "-rw-rw-r-- 1 v v  706 ago 11 17:11 gold_job.yml\n",
      "-rw-rw-r-- 1 v v 1027 ago 11 17:11 model_monitoring.yml\n",
      "-rw-rw-r-- 1 v v  688 ago 11 17:11 silver_job.yml\n",
      "-rw-rw-r-- 1 v v  697 ago 11 17:11 training_job.yml\n"
     ]
    }
   ],
   "source": [
    "# 🌟 COMANDO PRINCIPAL - EXECUTA PIPELINE COMPLETA\n",
    "print(\"🚀 Iniciando pipeline MLOps completa com auto-triggers...\")\n",
    "print(\"📋 Ordem: Bronze → Silver → Gold + Training → Monitoring\")\n",
    "print(\"⏳ Aguarde... pipeline executando automaticamente...\")\n",
    "\n",
    "!make run_bronze_with_triggers"
   ]
  },
  {
   "cell_type": "markdown",
   "id": "f5e2184a",
   "metadata": {},
   "source": [
    "# \udd0d 4. Verificação dos Resultados\n",
    "\n",
    "Vamos verificar se todo o pipeline executou corretamente:"
   ]
  },
  {
   "cell_type": "markdown",
   "id": "ecdb1e17",
   "metadata": {},
   "source": [
    "## Verificação das Tabelas Criadas"
   ]
  },
  {
   "cell_type": "code",
   "execution_count": 39,
   "id": "e529553e",
   "metadata": {},
   "outputs": [
    {
     "name": "stdout",
     "output_type": "stream",
     "text": [
      "🔍 VERIFICAÇÃO DAS TABELAS CRIADAS\n",
      "\n",
      "==================================================\n",
      "❌ iris_bronze: Não encontrada\n",
      "❌ iris_silver: Não encontrada\n",
      "❌ iris_gold: Não encontrada\n",
      "❌ iris_stats: Não encontrada\n",
      "==================================================\n"
     ]
    }
   ],
   "source": [
    "# Verificar todas as tabelas criadas pelo pipeline\n",
    "tables_to_check = [\n",
    "    \"iris_bronze\",\n",
    "    \"iris_silver\", \n",
    "    \"iris_gold\",\n",
    "    \"iris_stats\"\n",
    "]\n",
    "\n",
    "print(\"🔍 VERIFICAÇÃO DAS TABELAS CRIADAS\\n\")\n",
    "print(\"=\"*50)\n",
    "\n",
    "for table in tables_to_check:\n",
    "    try:\n",
    "        count = spark.sql(f\"SELECT COUNT(*) as count FROM workspace.default.{table}\").collect()[0]['count']\n",
    "        print(f\"✅ {table}: {count} registros\")\n",
    "        \n",
    "        # Mostrar amostra para silver e gold\n",
    "        if table in [\"iris_silver\", \"iris_gold\"]:\n",
    "            print(f\"   Amostra de {table}:\")\n",
    "            spark.sql(f\"SELECT * FROM workspace.default.{table} LIMIT 3\").show(truncate=False)\n",
    "            print()\n",
    "            \n",
    "    except Exception as e:\n",
    "        print(f\"❌ {table}: Não encontrada\")\n",
    "        \n",
    "print(\"=\"*50)"
   ]
  },
  {
   "cell_type": "markdown",
   "id": "e8e01970",
   "metadata": {},
   "source": [
    "## Verificação do Modelo no MLflow"
   ]
  },
  {
   "cell_type": "code",
   "execution_count": null,
   "id": "7a463170",
   "metadata": {},
   "outputs": [],
   "source": [
    "import mlflow\n",
    "from mlflow import MlflowClient\n",
    "\n",
    "# Inicializar cliente MLflow\n",
    "client = MlflowClient()\n",
    "\n",
    "print(\"🤖 VERIFICAÇÃO DO MODELO NO MLFLOW\\n\")\n",
    "print(\"=\"*50)\n",
    "\n",
    "try:\n",
    "    # Buscar experimentos\n",
    "    experiments = client.search_experiments()\n",
    "    print(f\"📊 Experimentos encontrados: {len(experiments)}\")\n",
    "    \n",
    "    for exp in experiments:\n",
    "        print(f\"   - {exp.name} (ID: {exp.experiment_id})\")\n",
    "        \n",
    "        # Buscar runs do experimento\n",
    "        runs = client.search_runs(exp.experiment_id, max_results=5)\n",
    "        print(f\"     Runs: {len(runs)}\")\n",
    "        \n",
    "        for run in runs[:3]:  # Mostrar apenas os 3 mais recentes\n",
    "            print(f\"     - Run {run.info.run_id[:8]}... Status: {run.info.status}\")\n",
    "            \n",
    "            # Verificar métricas\n",
    "            if run.data.metrics:\n",
    "                print(f\"       Métricas: {list(run.data.metrics.keys())}\")\n",
    "    \n",
    "    # Verificar modelos registrados\n",
    "    models = client.search_registered_models()\n",
    "    print(f\"\\n🎯 Modelos registrados: {len(models)}\")\n",
    "    \n",
    "    for model in models:\n",
    "        print(f\"   - {model.name}\")\n",
    "        \n",
    "        # Verificar versões\n",
    "        versions = client.search_model_versions(f\"name='{model.name}'\")\n",
    "        for version in versions:\n",
    "            print(f\"     Versão {version.version}: {version.current_stage}\")\n",
    "            \n",
    "except Exception as e:\n",
    "    print(f\"❌ Erro ao verificar MLflow: {e}\")\n",
    "\n",
    "print(\"=\"*50)"
   ]
  },
  {
   "cell_type": "code",
   "execution_count": null,
   "id": "086d8cad",
   "metadata": {},
   "outputs": [],
   "source": [
    "print(\"🎉 DEMO COMPLETO!\")\n",
    "print(\"=\"*50)\n",
    "print()\n",
    "print(\"✅ Pipeline Medallion implementado com sucesso:\")\n",
    "print(\"   • Bronze: Dados brutos ingeridos\")\n",
    "print(\"   • Silver: Dados limpos e transformados\") \n",
    "print(\"   • Gold: Agregações para analytics\")\n",
    "print()\n",
    "print(\"✅ MLOps implementado:\")\n",
    "print(\"   • Modelo treinado automaticamente\")\n",
    "print(\"   • Registrado no MLflow\")\n",
    "print(\"   • Versionamento automático\")\n",
    "print()\n",
    "print(\"✅ Orquestração via Databricks Asset Bundles:\")\n",
    "print(\"   • Jobs configurados e deployados\")\n",
    "print(\"   • Auto-triggers implementados\")\n",
    "print(\"   • Unity Catalog integrado\")\n",
    "print()\n",
    "print(\"🚀 Pipeline pronto para produção!\")\n",
    "print(\"=\"*50)"
   ]
  },
  {
   "cell_type": "markdown",
   "id": "3a9c5937",
   "metadata": {},
   "source": [
    "# 🎯 Próximos Passos\n",
    "\n",
    "1. **Monitoramento**: Implementar alertas e dashboards\n",
    "2. **CI/CD**: Integrar com GitHub Actions\n",
    "3. **Testes**: Adicionar testes automatizados de qualidade\n",
    "4. **Escala**: Configurar auto-scaling para workloads maiores\n",
    "5. **Governança**: Implementar políticas de acesso e auditoria\n",
    "\n",
    "---\n",
    "\n",
    "**Demo MLOps com Databricks Asset Bundles + Unity Catalog concluído! 🚀**"
   ]
  }
 ],
 "metadata": {
  "kernelspec": {
   "display_name": "base",
   "language": "python",
   "name": "python3"
  },
  "language_info": {
   "codemirror_mode": {
    "name": "ipython",
    "version": 3
   },
   "file_extension": ".py",
   "mimetype": "text/x-python",
   "name": "python",
   "nbconvert_exporter": "python",
   "pygments_lexer": "ipython3",
   "version": "3.9.13"
  }
 },
 "nbformat": 4,
 "nbformat_minor": 5
}

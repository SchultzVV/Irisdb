{
 "cells": [
  {
   "cell_type": "markdown",
   "metadata": {
    "application/vnd.databricks.v1+cell": {
     "cellMetadata": {},
     "inputWidgets": {},
     "nuid": "80ee9474-08ab-4bba-ac92-3a0cf27f1452",
     "showTitle": false,
     "tableResultSettingsMap": {},
     "title": ""
    }
   },
   "source": [
    "# 📦 Apresentação: Uso de Databricks Asset Bundles com MLflow e Unity Catalog\n",
    "\n",
    "---\n",
    "\n",
    "### 📌 1. Introdução (5 min)\n",
    "\n",
    "- O que é um **Databricks Asset Bundle**  \n",
    "- Como ele representa um projeto **\"Infrastructure as Code (IaC)\"** completo  \n",
    "- Benefícios:\n",
    "  - ✅ Versionamento completo (código + infra)\n",
    "  - ✅ Integração com Git e CI/CD\n",
    "  - ✅ Colaboração segura entre squads\n",
    "  - ✅ Portabilidade entre ambientes e workspaces\n",
    "\n",
    "---\n",
    "\n",
    "### 📂 2. Estrutura de Projeto\n",
    "\n",
    "Mostre a árvore de arquivos:\n",
    "\n",
    "\n",
    "\n",
    "💡 Destacamos que:\n",
    "- Tudo está versionado com Git\n",
    "- Reproduzível via Databricks CLI\n",
    "\n",
    "---\n",
    "\n",
    "### 📦 3. Demonstração da Pipeline\n",
    "\n",
    "Execute os comandos localmente:\n",
    "\n",
    "```bash\n",
    "databricks bundle deploy\n",
    "databricks bundle run iris_pipeline\n",
    "\n",
    "O que acontece:\n",
    "\n",
    "    Catálogo, schema e volume criados (setup_catalog_volume.py)\n",
    "\n",
    "    Dataset iris.csv lido de um mock (dbfs:/tmp/... ou Volumes/...)\n",
    "\n",
    "    Tabelas Bronze → Silver → Gold criadas no Unity Catalog\n",
    "\n",
    "    Modelo treinado e registrado com mlflow.register_model(...)\n",
    "\n",
    "    Rastreabilidade completa via lineage na UI do Databricks\n",
    "\n",
    "🤖 4. Registro do modelo com MLflow\n",
    "\n",
    "Sim, altamente recomendável! Mostre esse trecho:\n",
    "\n",
    "mlflow.log_metric(\"accuracy\", acc)\n",
    "mlflow.sklearn.log_model(model, \"iris_model\")\n",
    "mlflow.register_model(\"runs:/<run_id>/iris_model\", \"telecom_lakehouse.ml.iris_model\")\n",
    "\n",
    "✅ Demonstra:\n",
    "\n",
    "    Rastreabilidade do experimento\n",
    "\n",
    "    Versionamento automático do modelo\n",
    "\n",
    "    Promoção para Staging e Production\n",
    "\n",
    "🔁 5. CI/CD com GitHub Actions\n",
    "\n",
    "Mostre seu .github/workflows/ci.yml com:\n",
    "\n",
    "    ✅ Lint + Testes\n",
    "\n",
    "    ✅ Coverage publicado (coverage.xml)\n",
    "\n",
    "    ✅ databricks bundle validate\n",
    "\n",
    "    ✅ databricks bundle deploy\n",
    "\n",
    "    ✅ databricks bundle run iris_pipeline\n",
    "\n",
    "💡 Destaques:\n",
    "\n",
    "    📦 Integração entre código, dados e deploy\n",
    "\n",
    "    🔄 Reprodutibilidade e rastreabilidade\n",
    "\n",
    "    🧪 Validação automática dos pipelines com dados mockados\n",
    "\n",
    "📈 6. Unity Catalog e Lineage (na UI)\n",
    "\n",
    "Navegue na interface Databricks:\n",
    "\n",
    "    Vá para telecom_lakehouse.gold.iris_aggregated\n",
    "\n",
    "    Clique em Lineage → veja os notebooks, tabelas de origem e modelo\n",
    "\n",
    "    Vá ao Model Registry → clique no modelo iris_model\n",
    "\n",
    "        Mostre as versões\n",
    "\n",
    "        Artefatos\n",
    "\n",
    "        Status: None, Staging, Production\n",
    "\n",
    "✅ Valor percebido para MLOps\n",
    "Valor MLOps\tEvidenciado com...\n",
    "Reprodutibilidade\tdatabricks.yml, bundle run\n",
    "Versionamento de dados\tsetup_catalog_volume.py, Delta Tables\n",
    "Governança\tUnity Catalog (catalog.schema.table)\n",
    "Deploy seguro\tbundle deploy, Model Registry\n",
    "CI/CD Automatizado\tGitHub Actions + Databricks CLI\n",
    "Engenharia de qualidade\tModularização, tests/, coverage\n",
    "🧪 Dica bônus: prepare um commit com erro\n",
    "\n",
    "Exemplo: remova \"output_model\" da configuração YAML.\n",
    "\n",
    "Resultado: databricks bundle validate falha no pipeline\n",
    "→ Mostre como isso previne erro em produção\n",
    "✅ Conclusão\n",
    "\n",
    "Sim, você pode usar o Iris Dataset — mas o foco é:\n",
    "\n",
    "    Mostrar o ciclo completo, governado e automatizado\n",
    "\n",
    "    Eliminar riscos manuais com infra versionada\n",
    "\n",
    "    Trazer confiabilidade para Data Science em produção\n",
    "\n",
    "    Demonstrar o valor real do Asset Bundle + Unity Catalog + MLflow"
   ]
  },
  {
   "cell_type": "code",
   "execution_count": 0,
   "metadata": {
    "application/vnd.databricks.v1+cell": {
     "cellMetadata": {},
     "inputWidgets": {},
     "nuid": "6f65681d-b526-41bb-a305-79ed0de87986",
     "showTitle": false,
     "tableResultSettingsMap": {},
     "title": ""
    }
   },
   "outputs": [],
   "source": []
  },
  {
   "cell_type": "code",
   "execution_count": 0,
   "metadata": {
    "application/vnd.databricks.v1+cell": {
     "cellMetadata": {},
     "inputWidgets": {},
     "nuid": "93f216cb-ee64-4322-8141-b121a9d9deeb",
     "showTitle": false,
     "tableResultSettingsMap": {},
     "title": ""
    }
   },
   "outputs": [],
   "source": []
  },
  {
   "cell_type": "code",
   "execution_count": 0,
   "metadata": {
    "application/vnd.databricks.v1+cell": {
     "cellMetadata": {},
     "inputWidgets": {},
     "nuid": "d78d9a78-5f93-4b83-a612-7de1cbea0ae4",
     "showTitle": false,
     "tableResultSettingsMap": {},
     "title": ""
    }
   },
   "outputs": [],
   "source": []
  },
  {
   "cell_type": "code",
   "execution_count": 0,
   "metadata": {
    "application/vnd.databricks.v1+cell": {
     "cellMetadata": {},
     "inputWidgets": {},
     "nuid": "16cfc4e2-71af-4881-8fd3-c701654816e9",
     "showTitle": false,
     "tableResultSettingsMap": {},
     "title": ""
    }
   },
   "outputs": [],
   "source": []
  },
  {
   "cell_type": "code",
   "execution_count": 0,
   "metadata": {
    "application/vnd.databricks.v1+cell": {
     "cellMetadata": {},
     "inputWidgets": {},
     "nuid": "4218db1f-08f9-4869-a25e-5a10500904a2",
     "showTitle": false,
     "tableResultSettingsMap": {},
     "title": ""
    }
   },
   "outputs": [],
   "source": []
  }
 ],
 "metadata": {
  "application/vnd.databricks.v1+notebook": {
   "computePreferences": null,
   "dashboards": [],
   "environmentMetadata": {
    "base_environment": "",
    "environment_version": "2"
   },
   "inputWidgetPreferences": null,
   "language": "python",
   "notebookMetadata": {
    "pythonIndentUnit": 4
   },
   "notebookName": "Untitled Notebook 2025-07-24 10_16_27",
   "widgets": {}
  },
  "language_info": {
   "name": "python"
  }
 },
 "nbformat": 4,
 "nbformat_minor": 0
}
